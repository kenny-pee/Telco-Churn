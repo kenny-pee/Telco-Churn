{
 "cells": [
  {
   "cell_type": "code",
   "execution_count": 75,
   "metadata": {},
   "outputs": [],
   "source": [
    "import pandas as pd\n",
    "import numpy as np\n",
    "from sklearn.model_selection import train_test_split\n",
    "pd.set_option('display.max_columns', None)  \n",
    "from sklearn.linear_model import LogisticRegression\n",
    "from sklearn import metrics\n",
    "from sklearn.metrics import f1_score, accuracy_score, precision_score, recall_score, confusion_matrix, mean_squared_error, auc, roc_curve"
   ]
  },
  {
   "cell_type": "markdown",
   "metadata": {},
   "source": [
    "# Data cleaning"
   ]
  },
  {
   "cell_type": "code",
   "execution_count": 2,
   "metadata": {},
   "outputs": [],
   "source": [
    "dataset = pd.read_csv('WA_Fn-UseC_-Telco-Customer-Churn.csv')"
   ]
  },
  {
   "cell_type": "code",
   "execution_count": 4,
   "metadata": {},
   "outputs": [
    {
     "name": "stdout",
     "output_type": "stream",
     "text": [
      "<class 'pandas.core.frame.DataFrame'>\n",
      "RangeIndex: 7043 entries, 0 to 7042\n",
      "Data columns (total 21 columns):\n",
      " #   Column            Non-Null Count  Dtype  \n",
      "---  ------            --------------  -----  \n",
      " 0   customerID        7043 non-null   object \n",
      " 1   gender            7043 non-null   object \n",
      " 2   SeniorCitizen     7043 non-null   int64  \n",
      " 3   Partner           7043 non-null   object \n",
      " 4   Dependents        7043 non-null   object \n",
      " 5   tenure            7043 non-null   int64  \n",
      " 6   PhoneService      7043 non-null   object \n",
      " 7   MultipleLines     7043 non-null   object \n",
      " 8   InternetService   7043 non-null   object \n",
      " 9   OnlineSecurity    7043 non-null   object \n",
      " 10  OnlineBackup      7043 non-null   object \n",
      " 11  DeviceProtection  7043 non-null   object \n",
      " 12  TechSupport       7043 non-null   object \n",
      " 13  StreamingTV       7043 non-null   object \n",
      " 14  StreamingMovies   7043 non-null   object \n",
      " 15  Contract          7043 non-null   object \n",
      " 16  PaperlessBilling  7043 non-null   object \n",
      " 17  PaymentMethod     7043 non-null   object \n",
      " 18  MonthlyCharges    7043 non-null   float64\n",
      " 19  TotalCharges      7043 non-null   object \n",
      " 20  Churn             7043 non-null   object \n",
      "dtypes: float64(1), int64(2), object(18)\n",
      "memory usage: 1.1+ MB\n"
     ]
    }
   ],
   "source": [
    "dataset.info()"
   ]
  },
  {
   "cell_type": "code",
   "execution_count": 12,
   "metadata": {},
   "outputs": [
    {
     "data": {
      "text/html": [
       "<div>\n",
       "<style scoped>\n",
       "    .dataframe tbody tr th:only-of-type {\n",
       "        vertical-align: middle;\n",
       "    }\n",
       "\n",
       "    .dataframe tbody tr th {\n",
       "        vertical-align: top;\n",
       "    }\n",
       "\n",
       "    .dataframe thead th {\n",
       "        text-align: right;\n",
       "    }\n",
       "</style>\n",
       "<table border=\"1\" class=\"dataframe\">\n",
       "  <thead>\n",
       "    <tr style=\"text-align: right;\">\n",
       "      <th></th>\n",
       "      <th>customerID</th>\n",
       "      <th>gender</th>\n",
       "      <th>SeniorCitizen</th>\n",
       "      <th>Partner</th>\n",
       "      <th>Dependents</th>\n",
       "      <th>tenure</th>\n",
       "      <th>PhoneService</th>\n",
       "      <th>MultipleLines</th>\n",
       "      <th>InternetService</th>\n",
       "      <th>OnlineSecurity</th>\n",
       "      <th>OnlineBackup</th>\n",
       "      <th>DeviceProtection</th>\n",
       "      <th>TechSupport</th>\n",
       "      <th>StreamingTV</th>\n",
       "      <th>StreamingMovies</th>\n",
       "      <th>Contract</th>\n",
       "      <th>PaperlessBilling</th>\n",
       "      <th>PaymentMethod</th>\n",
       "      <th>MonthlyCharges</th>\n",
       "      <th>TotalCharges</th>\n",
       "      <th>Churn</th>\n",
       "    </tr>\n",
       "  </thead>\n",
       "  <tbody>\n",
       "    <tr>\n",
       "      <th>0</th>\n",
       "      <td>7590-VHVEG</td>\n",
       "      <td>Female</td>\n",
       "      <td>0</td>\n",
       "      <td>Yes</td>\n",
       "      <td>No</td>\n",
       "      <td>1</td>\n",
       "      <td>No</td>\n",
       "      <td>No phone service</td>\n",
       "      <td>DSL</td>\n",
       "      <td>No</td>\n",
       "      <td>Yes</td>\n",
       "      <td>No</td>\n",
       "      <td>No</td>\n",
       "      <td>No</td>\n",
       "      <td>No</td>\n",
       "      <td>Month-to-month</td>\n",
       "      <td>Yes</td>\n",
       "      <td>Electronic check</td>\n",
       "      <td>29.85</td>\n",
       "      <td>29.85</td>\n",
       "      <td>No</td>\n",
       "    </tr>\n",
       "    <tr>\n",
       "      <th>1</th>\n",
       "      <td>5575-GNVDE</td>\n",
       "      <td>Male</td>\n",
       "      <td>0</td>\n",
       "      <td>No</td>\n",
       "      <td>No</td>\n",
       "      <td>34</td>\n",
       "      <td>Yes</td>\n",
       "      <td>No</td>\n",
       "      <td>DSL</td>\n",
       "      <td>Yes</td>\n",
       "      <td>No</td>\n",
       "      <td>Yes</td>\n",
       "      <td>No</td>\n",
       "      <td>No</td>\n",
       "      <td>No</td>\n",
       "      <td>One year</td>\n",
       "      <td>No</td>\n",
       "      <td>Mailed check</td>\n",
       "      <td>56.95</td>\n",
       "      <td>1889.5</td>\n",
       "      <td>No</td>\n",
       "    </tr>\n",
       "    <tr>\n",
       "      <th>2</th>\n",
       "      <td>3668-QPYBK</td>\n",
       "      <td>Male</td>\n",
       "      <td>0</td>\n",
       "      <td>No</td>\n",
       "      <td>No</td>\n",
       "      <td>2</td>\n",
       "      <td>Yes</td>\n",
       "      <td>No</td>\n",
       "      <td>DSL</td>\n",
       "      <td>Yes</td>\n",
       "      <td>Yes</td>\n",
       "      <td>No</td>\n",
       "      <td>No</td>\n",
       "      <td>No</td>\n",
       "      <td>No</td>\n",
       "      <td>Month-to-month</td>\n",
       "      <td>Yes</td>\n",
       "      <td>Mailed check</td>\n",
       "      <td>53.85</td>\n",
       "      <td>108.15</td>\n",
       "      <td>Yes</td>\n",
       "    </tr>\n",
       "    <tr>\n",
       "      <th>3</th>\n",
       "      <td>7795-CFOCW</td>\n",
       "      <td>Male</td>\n",
       "      <td>0</td>\n",
       "      <td>No</td>\n",
       "      <td>No</td>\n",
       "      <td>45</td>\n",
       "      <td>No</td>\n",
       "      <td>No phone service</td>\n",
       "      <td>DSL</td>\n",
       "      <td>Yes</td>\n",
       "      <td>No</td>\n",
       "      <td>Yes</td>\n",
       "      <td>Yes</td>\n",
       "      <td>No</td>\n",
       "      <td>No</td>\n",
       "      <td>One year</td>\n",
       "      <td>No</td>\n",
       "      <td>Bank transfer (automatic)</td>\n",
       "      <td>42.30</td>\n",
       "      <td>1840.75</td>\n",
       "      <td>No</td>\n",
       "    </tr>\n",
       "    <tr>\n",
       "      <th>4</th>\n",
       "      <td>9237-HQITU</td>\n",
       "      <td>Female</td>\n",
       "      <td>0</td>\n",
       "      <td>No</td>\n",
       "      <td>No</td>\n",
       "      <td>2</td>\n",
       "      <td>Yes</td>\n",
       "      <td>No</td>\n",
       "      <td>Fiber optic</td>\n",
       "      <td>No</td>\n",
       "      <td>No</td>\n",
       "      <td>No</td>\n",
       "      <td>No</td>\n",
       "      <td>No</td>\n",
       "      <td>No</td>\n",
       "      <td>Month-to-month</td>\n",
       "      <td>Yes</td>\n",
       "      <td>Electronic check</td>\n",
       "      <td>70.70</td>\n",
       "      <td>151.65</td>\n",
       "      <td>Yes</td>\n",
       "    </tr>\n",
       "  </tbody>\n",
       "</table>\n",
       "</div>"
      ],
      "text/plain": [
       "   customerID  gender  SeniorCitizen Partner Dependents  tenure PhoneService  \\\n",
       "0  7590-VHVEG  Female              0     Yes         No       1           No   \n",
       "1  5575-GNVDE    Male              0      No         No      34          Yes   \n",
       "2  3668-QPYBK    Male              0      No         No       2          Yes   \n",
       "3  7795-CFOCW    Male              0      No         No      45           No   \n",
       "4  9237-HQITU  Female              0      No         No       2          Yes   \n",
       "\n",
       "      MultipleLines InternetService OnlineSecurity OnlineBackup  \\\n",
       "0  No phone service             DSL             No          Yes   \n",
       "1                No             DSL            Yes           No   \n",
       "2                No             DSL            Yes          Yes   \n",
       "3  No phone service             DSL            Yes           No   \n",
       "4                No     Fiber optic             No           No   \n",
       "\n",
       "  DeviceProtection TechSupport StreamingTV StreamingMovies        Contract  \\\n",
       "0               No          No          No              No  Month-to-month   \n",
       "1              Yes          No          No              No        One year   \n",
       "2               No          No          No              No  Month-to-month   \n",
       "3              Yes         Yes          No              No        One year   \n",
       "4               No          No          No              No  Month-to-month   \n",
       "\n",
       "  PaperlessBilling              PaymentMethod  MonthlyCharges TotalCharges  \\\n",
       "0              Yes           Electronic check           29.85        29.85   \n",
       "1               No               Mailed check           56.95       1889.5   \n",
       "2              Yes               Mailed check           53.85       108.15   \n",
       "3               No  Bank transfer (automatic)           42.30      1840.75   \n",
       "4              Yes           Electronic check           70.70       151.65   \n",
       "\n",
       "  Churn  \n",
       "0    No  \n",
       "1    No  \n",
       "2   Yes  \n",
       "3    No  \n",
       "4   Yes  "
      ]
     },
     "execution_count": 12,
     "metadata": {},
     "output_type": "execute_result"
    }
   ],
   "source": [
    "dataset.head()"
   ]
  },
  {
   "cell_type": "code",
   "execution_count": 13,
   "metadata": {},
   "outputs": [],
   "source": [
    "dataset['gender'] = np.where(dataset['gender'] == 'Male', 1, 0)\n",
    "dataset['Partner'] = np.where(dataset['Partner'] == 'Yes', 1, 0)\n",
    "dataset['Dependents'] = np.where(dataset['Dependents'] == 'Yes', 1, 0)\n",
    "dataset['PhoneService'] = np.where(dataset['PhoneService'] == 'Yes', 1, 0)\n",
    "dataset['PaperlessBilling'] = np.where(dataset['PaperlessBilling'] == 'Yes',1,0)\n",
    "dataset['Churn'] = np.where(dataset['Churn']== 'Yes',1,0)"
   ]
  },
  {
   "cell_type": "code",
   "execution_count": 16,
   "metadata": {},
   "outputs": [
    {
     "name": "stdout",
     "output_type": "stream",
     "text": [
      "<class 'pandas.core.frame.DataFrame'>\n",
      "RangeIndex: 7043 entries, 0 to 7042\n",
      "Data columns (total 21 columns):\n",
      " #   Column            Non-Null Count  Dtype  \n",
      "---  ------            --------------  -----  \n",
      " 0   customerID        7043 non-null   object \n",
      " 1   gender            7043 non-null   int32  \n",
      " 2   SeniorCitizen     7043 non-null   int64  \n",
      " 3   Partner           7043 non-null   int32  \n",
      " 4   Dependents        7043 non-null   int32  \n",
      " 5   tenure            7043 non-null   int64  \n",
      " 6   PhoneService      7043 non-null   int32  \n",
      " 7   MultipleLines     7043 non-null   object \n",
      " 8   InternetService   7043 non-null   object \n",
      " 9   OnlineSecurity    7043 non-null   object \n",
      " 10  OnlineBackup      7043 non-null   object \n",
      " 11  DeviceProtection  7043 non-null   object \n",
      " 12  TechSupport       7043 non-null   object \n",
      " 13  StreamingTV       7043 non-null   object \n",
      " 14  StreamingMovies   7043 non-null   object \n",
      " 15  Contract          7043 non-null   object \n",
      " 16  PaperlessBilling  7043 non-null   int32  \n",
      " 17  PaymentMethod     7043 non-null   object \n",
      " 18  MonthlyCharges    7043 non-null   float64\n",
      " 19  TotalCharges      7043 non-null   object \n",
      " 20  Churn             7043 non-null   int32  \n",
      "dtypes: float64(1), int32(6), int64(2), object(12)\n",
      "memory usage: 990.5+ KB\n"
     ]
    }
   ],
   "source": [
    "dataset.info()"
   ]
  },
  {
   "cell_type": "code",
   "execution_count": 20,
   "metadata": {},
   "outputs": [],
   "source": [
    "totalcharge = list(dataset['TotalCharges'])"
   ]
  },
  {
   "cell_type": "code",
   "execution_count": 41,
   "metadata": {},
   "outputs": [],
   "source": [
    "totalcharge_result = []\n",
    "for i in range (len(totalcharge)):\n",
    "    if len(totalcharge[i]) == 1:\n",
    "        totalcharge_result.append(0)\n",
    "    else:\n",
    "        totalcharge_result.append(float(totalcharge[i]))"
   ]
  },
  {
   "cell_type": "code",
   "execution_count": 45,
   "metadata": {},
   "outputs": [],
   "source": [
    "dataset['TotalCharges'] = totalcharge_result"
   ]
  },
  {
   "cell_type": "code",
   "execution_count": 54,
   "metadata": {},
   "outputs": [],
   "source": [
    "data_dum = pd.get_dummies(dataset.drop(columns=['customerID']))"
   ]
  },
  {
   "cell_type": "code",
   "execution_count": 57,
   "metadata": {},
   "outputs": [],
   "source": [
    "data_x = data_dum.drop(columns=['Churn'])\n",
    "data_y = data_dum.Churn"
   ]
  },
  {
   "cell_type": "code",
   "execution_count": 61,
   "metadata": {},
   "outputs": [],
   "source": [
    "X_train,X_test,y_train,y_test=train_test_split(data_x,data_y,test_size=0.3, random_state=109)"
   ]
  },
  {
   "cell_type": "markdown",
   "metadata": {},
   "source": [
    "# Logistic Regression"
   ]
  },
  {
   "cell_type": "code",
   "execution_count": 77,
   "metadata": {},
   "outputs": [
    {
     "data": {
      "text/html": [
       "<div>\n",
       "<style scoped>\n",
       "    .dataframe tbody tr th:only-of-type {\n",
       "        vertical-align: middle;\n",
       "    }\n",
       "\n",
       "    .dataframe tbody tr th {\n",
       "        vertical-align: top;\n",
       "    }\n",
       "\n",
       "    .dataframe thead th {\n",
       "        text-align: right;\n",
       "    }\n",
       "</style>\n",
       "<table border=\"1\" class=\"dataframe\">\n",
       "  <thead>\n",
       "    <tr style=\"text-align: right;\">\n",
       "      <th></th>\n",
       "      <th>True Y=0</th>\n",
       "      <th>True Y=1</th>\n",
       "    </tr>\n",
       "  </thead>\n",
       "  <tbody>\n",
       "    <tr>\n",
       "      <th>Predicted Y=0</th>\n",
       "      <td>1382</td>\n",
       "      <td>252</td>\n",
       "    </tr>\n",
       "    <tr>\n",
       "      <th>Predicted Y=1</th>\n",
       "      <td>154</td>\n",
       "      <td>325</td>\n",
       "    </tr>\n",
       "  </tbody>\n",
       "</table>\n",
       "</div>"
      ],
      "text/plain": [
       "               True Y=0  True Y=1\n",
       "Predicted Y=0      1382       252\n",
       "Predicted Y=1       154       325"
      ]
     },
     "metadata": {},
     "output_type": "display_data"
    },
    {
     "name": "stdout",
     "output_type": "stream",
     "text": [
      "Accuracy: 0.8079\n",
      "Sensitivity: 0.5633\n",
      "Specificity: 0.8997\n",
      "AUC: 0.8478\n",
      "F1 score: 0.6155\n"
     ]
    }
   ],
   "source": [
    "logreg = LogisticRegression(max_iter = 500)\n",
    "logreg.fit(X_train, y_train)\n",
    "y_pred = logreg.predict(X_test)\n",
    "\n",
    "y_prob = logreg.predict_proba(X_test)\n",
    "y_prob = pd.DataFrame(y_prob[:, 1])\n",
    "accuracy = metrics.accuracy_score(y_pred, y_test)\n",
    "cm1 = pd.DataFrame(confusion_matrix(y_pred, y_test))\n",
    "cm1.columns = ['True Y=0','True Y=1']\n",
    "cm1.index = ['Predicted Y=0','Predicted Y=1']\n",
    "display(cm1)\n",
    "\n",
    "print(\"Accuracy:\", round(metrics.accuracy_score(y_pred, y_test), 4))  # Model Accuracy: how often is the classifier correct?\n",
    "print(\"Sensitivity:\", round(cm1.iloc[1, 1]/(cm1.iloc[1, 1] + cm1.iloc[0, 1]), 4))  # sensitivity\n",
    "print(\"Specificity:\", round(cm1.iloc[0, 0]/(cm1.iloc[0, 0] + cm1.iloc[1, 0]), 4))  # specificity\n",
    "fpr, tpr, thresholds = roc_curve(y_test, y_prob)\n",
    "print('AUC:', round(metrics.auc(fpr, tpr), 4))  # auc\n",
    "print(\"F1 score:\", round(metrics.f1_score(y_test, y_pred), 4))  # F1 score"
   ]
  },
  {
   "cell_type": "markdown",
   "metadata": {},
   "source": [
    "# Decision Trees, Gini"
   ]
  },
  {
   "cell_type": "code",
   "execution_count": 80,
   "metadata": {},
   "outputs": [],
   "source": [
    "from sklearn.tree import DecisionTreeClassifier\n",
    "from sklearn import tree\n",
    "import graphviz "
   ]
  },
  {
   "cell_type": "code",
   "execution_count": 153,
   "metadata": {},
   "outputs": [
    {
     "data": {
      "text/plain": [
       "DecisionTreeClassifier(max_depth=7, min_samples_leaf=10, min_samples_split=6,\n",
       "                       random_state=109)"
      ]
     },
     "execution_count": 153,
     "metadata": {},
     "output_type": "execute_result"
    }
   ],
   "source": [
    "clf = DecisionTreeClassifier(criterion='gini', max_depth = 7, random_state=109,min_samples_split=6,min_samples_leaf=10)\n",
    "clf.fit(X_train, y_train)"
   ]
  },
  {
   "cell_type": "code",
   "execution_count": 154,
   "metadata": {},
   "outputs": [
    {
     "data": {
      "text/html": [
       "<div>\n",
       "<style scoped>\n",
       "    .dataframe tbody tr th:only-of-type {\n",
       "        vertical-align: middle;\n",
       "    }\n",
       "\n",
       "    .dataframe tbody tr th {\n",
       "        vertical-align: top;\n",
       "    }\n",
       "\n",
       "    .dataframe thead th {\n",
       "        text-align: right;\n",
       "    }\n",
       "</style>\n",
       "<table border=\"1\" class=\"dataframe\">\n",
       "  <thead>\n",
       "    <tr style=\"text-align: right;\">\n",
       "      <th></th>\n",
       "      <th>True Y=0</th>\n",
       "      <th>True Y=1</th>\n",
       "    </tr>\n",
       "  </thead>\n",
       "  <tbody>\n",
       "    <tr>\n",
       "      <th>Predicted Y=0</th>\n",
       "      <td>1348</td>\n",
       "      <td>257</td>\n",
       "    </tr>\n",
       "    <tr>\n",
       "      <th>Predicted Y=1</th>\n",
       "      <td>188</td>\n",
       "      <td>320</td>\n",
       "    </tr>\n",
       "  </tbody>\n",
       "</table>\n",
       "</div>"
      ],
      "text/plain": [
       "               True Y=0  True Y=1\n",
       "Predicted Y=0      1348       257\n",
       "Predicted Y=1       188       320"
      ]
     },
     "metadata": {},
     "output_type": "display_data"
    },
    {
     "name": "stdout",
     "output_type": "stream",
     "text": [
      "Accuracy: 0.7894\n",
      "Sensitivity: 0.5546\n",
      "Specificity: 0.8776\n",
      "AUC: 0.8478\n",
      "F1 score: 0.5899\n"
     ]
    }
   ],
   "source": [
    "y_pred = clf.predict(X_test)\n",
    "cm1 = pd.DataFrame(confusion_matrix(y_pred, y_test))\n",
    "cm1.columns = ['True Y=0','True Y=1']\n",
    "cm1.index = ['Predicted Y=0','Predicted Y=1']\n",
    "display(cm1)\n",
    "total=sum(sum(cm))\n",
    "    \n",
    "print(\"Accuracy:\", round(metrics.accuracy_score(y_pred, y_test), 4))  # Model Accuracy: how often is the classifier correct?\n",
    "print(\"Sensitivity:\", round(cm1.iloc[1, 1]/(cm1.iloc[1, 1] + cm1.iloc[0, 1]), 4))  # sensitivity\n",
    "print(\"Specificity:\", round(cm1.iloc[0, 0]/(cm1.iloc[0, 0] + cm1.iloc[1, 0]), 4))  # specificity\n",
    "fpr, tpr, thresholds = roc_curve(y_test, y_prob)\n",
    "print('AUC:', round(metrics.auc(fpr, tpr), 4))  # auc\n",
    "print(\"F1 score:\", round(metrics.f1_score(y_test, y_pred), 4))  # F1 score"
   ]
  },
  {
   "cell_type": "markdown",
   "metadata": {},
   "source": [
    "# Decision Trees, Entropy"
   ]
  },
  {
   "cell_type": "code",
   "execution_count": 149,
   "metadata": {},
   "outputs": [
    {
     "data": {
      "text/plain": [
       "DecisionTreeClassifier(criterion='entropy', max_depth=7, min_samples_leaf=10,\n",
       "                       min_samples_split=6, random_state=109)"
      ]
     },
     "execution_count": 149,
     "metadata": {},
     "output_type": "execute_result"
    }
   ],
   "source": [
    "clf = DecisionTreeClassifier(criterion='entropy', max_depth = 7, random_state=109,min_samples_split=6,min_samples_leaf=10)\n",
    "clf.fit(X_train, y_train)"
   ]
  },
  {
   "cell_type": "code",
   "execution_count": 150,
   "metadata": {},
   "outputs": [
    {
     "data": {
      "text/html": [
       "<div>\n",
       "<style scoped>\n",
       "    .dataframe tbody tr th:only-of-type {\n",
       "        vertical-align: middle;\n",
       "    }\n",
       "\n",
       "    .dataframe tbody tr th {\n",
       "        vertical-align: top;\n",
       "    }\n",
       "\n",
       "    .dataframe thead th {\n",
       "        text-align: right;\n",
       "    }\n",
       "</style>\n",
       "<table border=\"1\" class=\"dataframe\">\n",
       "  <thead>\n",
       "    <tr style=\"text-align: right;\">\n",
       "      <th></th>\n",
       "      <th>True Y=0</th>\n",
       "      <th>True Y=1</th>\n",
       "    </tr>\n",
       "  </thead>\n",
       "  <tbody>\n",
       "    <tr>\n",
       "      <th>Predicted Y=0</th>\n",
       "      <td>1324</td>\n",
       "      <td>251</td>\n",
       "    </tr>\n",
       "    <tr>\n",
       "      <th>Predicted Y=1</th>\n",
       "      <td>212</td>\n",
       "      <td>326</td>\n",
       "    </tr>\n",
       "  </tbody>\n",
       "</table>\n",
       "</div>"
      ],
      "text/plain": [
       "               True Y=0  True Y=1\n",
       "Predicted Y=0      1324       251\n",
       "Predicted Y=1       212       326"
      ]
     },
     "metadata": {},
     "output_type": "display_data"
    },
    {
     "name": "stdout",
     "output_type": "stream",
     "text": [
      "Accuracy: 0.7809\n",
      "Sensitivity: 0.565\n",
      "Specificity: 0.862\n",
      "AUC: 0.8478\n",
      "F1 score: 0.5848\n"
     ]
    }
   ],
   "source": [
    "y_pred = clf.predict(X_test)\n",
    "cm1 = pd.DataFrame(confusion_matrix(y_pred, y_test))\n",
    "cm1.columns = ['True Y=0','True Y=1']\n",
    "cm1.index = ['Predicted Y=0','Predicted Y=1']\n",
    "display(cm1)\n",
    "total=sum(sum(cm))\n",
    "    \n",
    "print(\"Accuracy:\", round(metrics.accuracy_score(y_pred, y_test), 4))  # Model Accuracy: how often is the classifier correct?\n",
    "print(\"Sensitivity:\", round(cm1.iloc[1, 1]/(cm1.iloc[1, 1] + cm1.iloc[0, 1]), 4))  # sensitivity\n",
    "print(\"Specificity:\", round(cm1.iloc[0, 0]/(cm1.iloc[0, 0] + cm1.iloc[1, 0]), 4))  # specificity\n",
    "fpr, tpr, thresholds = roc_curve(y_test, y_prob)\n",
    "print('AUC:', round(metrics.auc(fpr, tpr), 4))  # auc\n",
    "print(\"F1 score:\", round(metrics.f1_score(y_test, y_pred), 4))  # F1 score"
   ]
  },
  {
   "cell_type": "markdown",
   "metadata": {},
   "source": [
    "# XGBoost"
   ]
  },
  {
   "cell_type": "code",
   "execution_count": 159,
   "metadata": {},
   "outputs": [],
   "source": [
    "import pandas as pd\n",
    "import numpy as np\n",
    "from scipy import stats\n",
    "import matplotlib.pyplot as plt\n",
    "import datetime \n",
    "from IPython.core.interactiveshell import InteractiveShell\n",
    "InteractiveShell.ast_node_interactivity = \"all\"\n",
    "import graphviz\n",
    "from sklearn.model_selection import train_test_split\n",
    "import xgboost as xgb\n",
    "from sklearn.model_selection import RandomizedSearchCV\n",
    "from scipy.stats import uniform, randint\n",
    "from sklearn.metrics import f1_score, accuracy_score, precision_score, recall_score, confusion_matrix, mean_squared_error, auc, roc_curve\n",
    "from sklearn import metrics\n",
    "pd.set_option(\"display.max_rows\", None, \"display.max_columns\", None)\n",
    "from IPython.display import display_html\n",
    "from sklearn.feature_selection import SelectFromModel"
   ]
  },
  {
   "cell_type": "code",
   "execution_count": 157,
   "metadata": {},
   "outputs": [],
   "source": [
    "def find_best(randomState, iterations, crossValid, verb, njobs, returnScore, X_train, y_train):\n",
    "    xgb_model = xgb.XGBClassifier(objective = \"binary:logistic\", random_state = 42)  # define model first\n",
    "    \n",
    "    # Get different combinations of parameter values\n",
    "    search = RandomizedSearchCV(xgb_model, param_distributions = params, \n",
    "                                random_state = randomState, n_iter = iterations, \n",
    "                                cv = crossValid, verbose = verb, n_jobs = njobs, \n",
    "                                return_train_score = returnScore)\n",
    "    \n",
    "    # Fit these sets of parameters to the model\n",
    "    search.fit(X_train.drop(['IMO Number','Y'],axis=1), y_train)\n",
    "    print(\"Best Score Found:\", round(search.best_score_, 4))  # Best Accuracy; mean cross-validated score of the best_estimator\n",
    "    print(\"Best Parameters Found:\", search.best_params_)  # Most optimal parameter values\n",
    "    return search\n",
    "\n",
    "# get metric scores\n",
    "def get_metrics(best_model, X_test, y_test, X_train, y_train):  #, imo_xtrain, imo_xtest):\n",
    "    y_pred = best_model.predict(X_test)\n",
    "    y_prob = best_model.predict_proba(X_test)\n",
    "    y_prob = pd.DataFrame(y_prob[:, 1])\n",
    "\n",
    "    # Confusion matrix\n",
    "    cm1 = pd.DataFrame(confusion_matrix(y_pred, y_test))\n",
    "    cm1.columns = ['True Y=0','True Y=1']\n",
    "    cm1.index = ['Predicted Y=0','Predicted Y=1']\n",
    "    display(cm1)\n",
    "    \n",
    "    print(\"Accuracy:\", round(metrics.accuracy_score(y_pred, y_test), 4))  # Model Accuracy: how often is the classifier correct?\n",
    "    print(\"Sensitivity:\", round(cm1.iloc[1, 1]/(cm1.iloc[1, 1] + cm1.iloc[0, 1]), 4))  # sensitivity\n",
    "    print(\"Specificity:\", round(cm1.iloc[0, 0]/(cm1.iloc[0, 0] + cm1.iloc[1, 0]), 4))  # specificity\n",
    "    fpr, tpr, thresholds = roc_curve(y_test, y_prob)\n",
    "    print('AUC:', round(metrics.auc(fpr, tpr), 4))  # auc\n",
    "    print(\"F1 score:\", round(metrics.f1_score(y_test, y_pred), 4))  # F1 score\n",
    "    \n",
    "# Plot visualisation of important variables and probabilities of Y = 1 for training and validation sets\n",
    "def visual_and_prob(best_model, X_test, y_test, X_train, y_train, imo_xtrain, imo_xtest):\n",
    "    # visualisation of top 10 important variables\n",
    "    xgb.plot_importance(best_model.get_booster(), max_num_features = 10, xlabel='no. of times feature appeared',\n",
    "                        title='Feature importance of top 10 variables')  # ,importance_type = 'gain')\n",
    "    plt.rcParams['figure.figsize'] = [5, 5]\n",
    "    plt.show()\n",
    "    \n",
    "    # predict probabilities for training set\n",
    "    X_train['IMO Number'] = imo_xtrain.astype(str)\n",
    "    X_train['Y'] = y_train\n",
    "    y_prob_train = best_model.predict_proba(X_train[X_train['Y'] == 1].drop(columns = ['Y', 'IMO Number']))\n",
    "    y_prob_train = pd.DataFrame(y_prob_train[:,1])\n",
    "    imo = pd.DataFrame(X_train[X_train['Y'] == 1]['IMO Number']).reset_index()\n",
    "    imo['Y=1'] = y_prob_train\n",
    "    imo = imo.sort_values(by = 'Y=1', ascending = False).drop('index', axis = 1)\n",
    "    \n",
    "    # predict probabilities for test set\n",
    "    X_test['IMO Number'] = imo_xtest.astype(str)\n",
    "    X_test['Y'] = y_test\n",
    "    y_prob_test = best_model.predict_proba(X_test[X_test['Y'] == 1].drop(columns = ['Y', 'IMO Number']))\n",
    "    y_prob_test = pd.DataFrame(y_prob_test[:,1])\n",
    "    imo1 = pd.DataFrame(X_test[X_test['Y'] == 1]['IMO Number']).reset_index()\n",
    "    imo1['Y=1'] = y_prob_test\n",
    "    imo1 = imo1.sort_values(by = 'Y=1', ascending = False).drop('index',axis=1)\n",
    "    \n",
    "    side_by_side(imo.iloc[:6, :], imo1.iloc[:6, :], \"Probabilities for training set\", \"Probabilities for test set\")"
   ]
  },
  {
   "cell_type": "code",
   "execution_count": 162,
   "metadata": {},
   "outputs": [],
   "source": [
    "# Initialise parameter values\n",
    "params = {\n",
    "    \"colsample_bytree\": uniform(0.3, 0.7),\n",
    "    \"gamma\": uniform(0, 0.5),\n",
    "    \"learning_rate\": uniform(0.03, 0.3), # default 0.1 \n",
    "    \"max_depth\": randint(2, 6), # default 3\n",
    "    \"n_estimators\": randint(100, 500), # default 100\n",
    "    \"subsample\": uniform(0.3, 0.6)\n",
    "}\n",
    "\n",
    "randomState, iterations, crossValid, verb, njobs, returnScore = 42, 300, 5, 1, 1, True"
   ]
  },
  {
   "cell_type": "code",
   "execution_count": 167,
   "metadata": {},
   "outputs": [
    {
     "name": "stdout",
     "output_type": "stream",
     "text": [
      "Fitting 5 folds for each of 300 candidates, totalling 1500 fits\n"
     ]
    },
    {
     "name": "stderr",
     "output_type": "stream",
     "text": [
      "[Parallel(n_jobs=1)]: Using backend SequentialBackend with 1 concurrent workers.\n",
      "[Parallel(n_jobs=1)]: Done 1500 out of 1500 | elapsed: 10.4min finished\n"
     ]
    },
    {
     "data": {
      "text/plain": [
       "RandomizedSearchCV(cv=5,\n",
       "                   estimator=XGBClassifier(base_score=None, booster=None,\n",
       "                                           colsample_bylevel=None,\n",
       "                                           colsample_bynode=None,\n",
       "                                           colsample_bytree=None, gamma=None,\n",
       "                                           gpu_id=None, importance_type='gain',\n",
       "                                           interaction_constraints=None,\n",
       "                                           learning_rate=None,\n",
       "                                           max_delta_step=None, max_depth=None,\n",
       "                                           min_child_weight=None, missing=nan,\n",
       "                                           monotone_constraints=None,\n",
       "                                           n_estimators=100,...\n",
       "                                        'learning_rate': <scipy.stats._distn_infrastructure.rv_frozen object at 0x0000026DF8A67040>,\n",
       "                                        'max_depth': <scipy.stats._distn_infrastructure.rv_frozen object at 0x0000026DF8A672B0>,\n",
       "                                        'n_estimators': <scipy.stats._distn_infrastructure.rv_frozen object at 0x0000026DF8A67400>,\n",
       "                                        'subsample': <scipy.stats._distn_infrastructure.rv_frozen object at 0x0000026DF8A67640>},\n",
       "                   random_state=42, return_train_score=True, verbose=1)"
      ]
     },
     "execution_count": 167,
     "metadata": {},
     "output_type": "execute_result"
    }
   ],
   "source": [
    "xgb_model = xgb.XGBClassifier(objective = \"binary:logistic\", random_state = 42)  # define model first\n",
    "    \n",
    "    # Get different combinations of parameter values\n",
    "search = RandomizedSearchCV(xgb_model, param_distributions = params, \n",
    "                            random_state = randomState, n_iter = iterations, \n",
    "                            cv = crossValid, verbose = verb, n_jobs = njobs, \n",
    "                            return_train_score = returnScore)\n",
    "search.fit(X_train, y_train)\n"
   ]
  },
  {
   "cell_type": "code",
   "execution_count": 168,
   "metadata": {},
   "outputs": [],
   "source": [
    "xgb_best = search.best_estimator_"
   ]
  },
  {
   "cell_type": "code",
   "execution_count": 169,
   "metadata": {},
   "outputs": [],
   "source": [
    "# get metric scores\n",
    "def get_metrics(best_model, X_test, y_test, X_train, y_train):  #, imo_xtrain, imo_xtest):\n",
    "    y_pred = best_model.predict(X_test)\n",
    "    y_prob = best_model.predict_proba(X_test)\n",
    "    y_prob = pd.DataFrame(y_prob[:, 1])\n",
    "\n",
    "    # Confusion matrix\n",
    "    cm1 = pd.DataFrame(confusion_matrix(y_pred, y_test))\n",
    "    cm1.columns = ['True Y=0','True Y=1']\n",
    "    cm1.index = ['Predicted Y=0','Predicted Y=1']\n",
    "    display(cm1)\n",
    "    \n",
    "    print(\"Accuracy:\", round(metrics.accuracy_score(y_pred, y_test), 4))  # Model Accuracy: how often is the classifier correct?\n",
    "    print(\"Sensitivity:\", round(cm1.iloc[1, 1]/(cm1.iloc[1, 1] + cm1.iloc[0, 1]), 4))  # sensitivity\n",
    "    print(\"Specificity:\", round(cm1.iloc[0, 0]/(cm1.iloc[0, 0] + cm1.iloc[1, 0]), 4))  # specificity\n",
    "    fpr, tpr, thresholds = roc_curve(y_test, y_prob)\n",
    "    print('AUC:', round(metrics.auc(fpr, tpr), 4))  # auc\n",
    "    print(\"F1 score:\", round(metrics.f1_score(y_test, y_pred), 4))  # F1 score"
   ]
  },
  {
   "cell_type": "code",
   "execution_count": 170,
   "metadata": {},
   "outputs": [
    {
     "data": {
      "text/html": [
       "<div>\n",
       "<style scoped>\n",
       "    .dataframe tbody tr th:only-of-type {\n",
       "        vertical-align: middle;\n",
       "    }\n",
       "\n",
       "    .dataframe tbody tr th {\n",
       "        vertical-align: top;\n",
       "    }\n",
       "\n",
       "    .dataframe thead th {\n",
       "        text-align: right;\n",
       "    }\n",
       "</style>\n",
       "<table border=\"1\" class=\"dataframe\">\n",
       "  <thead>\n",
       "    <tr style=\"text-align: right;\">\n",
       "      <th></th>\n",
       "      <th>True Y=0</th>\n",
       "      <th>True Y=1</th>\n",
       "    </tr>\n",
       "  </thead>\n",
       "  <tbody>\n",
       "    <tr>\n",
       "      <th>Predicted Y=0</th>\n",
       "      <td>1383</td>\n",
       "      <td>265</td>\n",
       "    </tr>\n",
       "    <tr>\n",
       "      <th>Predicted Y=1</th>\n",
       "      <td>153</td>\n",
       "      <td>312</td>\n",
       "    </tr>\n",
       "  </tbody>\n",
       "</table>\n",
       "</div>"
      ],
      "text/plain": [
       "               True Y=0  True Y=1\n",
       "Predicted Y=0      1383       265\n",
       "Predicted Y=1       153       312"
      ]
     },
     "metadata": {},
     "output_type": "display_data"
    },
    {
     "name": "stdout",
     "output_type": "stream",
     "text": [
      "Accuracy: 0.8022\n",
      "Sensitivity: 0.5407\n",
      "Specificity: 0.9004\n",
      "AUC: 0.8488\n",
      "F1 score: 0.5988\n"
     ]
    }
   ],
   "source": [
    "get_metrics(xgb_best,X_test,y_test,X_train,y_train)"
   ]
  },
  {
   "cell_type": "code",
   "execution_count": null,
   "metadata": {},
   "outputs": [],
   "source": []
  }
 ],
 "metadata": {
  "kernelspec": {
   "display_name": "Python 3",
   "language": "python",
   "name": "python3"
  },
  "language_info": {
   "codemirror_mode": {
    "name": "ipython",
    "version": 3
   },
   "file_extension": ".py",
   "mimetype": "text/x-python",
   "name": "python",
   "nbconvert_exporter": "python",
   "pygments_lexer": "ipython3",
   "version": "3.8.3"
  }
 },
 "nbformat": 4,
 "nbformat_minor": 4
}
